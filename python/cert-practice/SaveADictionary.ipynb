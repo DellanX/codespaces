{
 "cells": [
  {
   "cell_type": "markdown",
   "metadata": {},
   "source": [
    "## Objective\n",
    "Write a Python function to save a dictionary to file.\n",
    "Write a Python function to load a dictionary from a file.\n",
    "\n",
    "## Input\n",
    "Dictionary to save\n",
    "Output File Path\n",
    "\n",
    "File to load"
   ]
  },
  {
   "cell_type": "code",
   "execution_count": 32,
   "metadata": {},
   "outputs": [],
   "source": [
    "# I assume that the intent was to not use the serializer, thus I created my own serialization process.\n",
    "# This is inferior to JSON for many reason. Deliminators `\\n` and `: ` must not be in the keys or values.\n",
    "# This serializer assumes all datatypes to be strings\n",
    "# A more proper solution would be to use the JSON library, or to pickle the data\n",
    "\n",
    "def save_to_file(data: dict, path: str):\n",
    "    # Step 1, serialize to a list of strings\n",
    "    lines: list[str] = [f'{key}: {value}\\n' for (key, value) in data.items()]\n",
    "    # Step 2, write each line to a file\n",
    "    with open(path, 'w') as file:\n",
    "        file.writelines(lines)"
   ]
  },
  {
   "cell_type": "code",
   "execution_count": 33,
   "metadata": {},
   "outputs": [],
   "source": [
    "data: dict = {'a': '1', 'b': '3'}\n",
    "save_to_file(data, 'dictionary.txt')"
   ]
  },
  {
   "cell_type": "code",
   "execution_count": 29,
   "metadata": {},
   "outputs": [],
   "source": [
    "def load_from_file(path: str): \n",
    "    data = {}\n",
    "    with open(path, 'r') as file:\n",
    "        for line in file.readlines():\n",
    "            keys = line.split(': ')\n",
    "            data[keys[0]] = keys[1][:-1]\n",
    "    return data"
   ]
  },
  {
   "cell_type": "code",
   "execution_count": 30,
   "metadata": {},
   "outputs": [
    {
     "data": {
      "text/plain": [
       "{'a': '1', 'b': '3'}"
      ]
     },
     "execution_count": 30,
     "metadata": {},
     "output_type": "execute_result"
    }
   ],
   "source": [
    "loaded = load_from_file(\"dictionary.txt\")\n",
    "loaded"
   ]
  },
  {
   "cell_type": "code",
   "execution_count": 31,
   "metadata": {},
   "outputs": [],
   "source": [
    "assert loaded == data, 'Loaded did not match initial data'"
   ]
  },
  {
   "cell_type": "code",
   "execution_count": null,
   "metadata": {},
   "outputs": [],
   "source": []
  }
 ],
 "metadata": {
  "kernelspec": {
   "display_name": "Python 3",
   "language": "python",
   "name": "python3"
  },
  "language_info": {
   "codemirror_mode": {
    "name": "ipython",
    "version": 3
   },
   "file_extension": ".py",
   "mimetype": "text/x-python",
   "name": "python",
   "nbconvert_exporter": "python",
   "pygments_lexer": "ipython3",
   "version": "3.10.13"
  }
 },
 "nbformat": 4,
 "nbformat_minor": 2
}
