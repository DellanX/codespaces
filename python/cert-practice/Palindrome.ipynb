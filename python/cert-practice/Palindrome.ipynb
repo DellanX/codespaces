{
 "cells": [
  {
   "cell_type": "markdown",
   "metadata": {},
   "source": [
    "# Objective\n",
    "Create a Python function to determine if a given string is a palindrome\n",
    "\n",
    "## Input\n",
    "A string\n",
    "A-Z only, case insensitive\n",
    "\n",
    "## Output\n",
    "A boolean value\n",
    "\n",
    "## Test Conditions\n",
    "- hello world => false\n",
    "- Go hang a samali - I'm a lasagna hog. => true"
   ]
  },
  {
   "cell_type": "code",
   "execution_count": 3,
   "metadata": {},
   "outputs": [],
   "source": [
    "# Import RegEx\n",
    "import re\n",
    "import math"
   ]
  },
  {
   "cell_type": "code",
   "execution_count": 4,
   "metadata": {},
   "outputs": [],
   "source": [
    "def sanitize_message(message: str) -> str:\n",
    "    message = str.lower(message)\n",
    "    messages = re.findall('[a-zA-Z]+', message)\n",
    "    return \"\".join(messages)"
   ]
  },
  {
   "cell_type": "code",
   "execution_count": 5,
   "metadata": {},
   "outputs": [],
   "source": [
    "assert sanitize_message('Ab') == 'ab'\n",
    "assert sanitize_message('123a') == 'a'\n",
    "assert sanitize_message('!New#') == 'new'"
   ]
  },
  {
   "cell_type": "code",
   "execution_count": 15,
   "metadata": {},
   "outputs": [],
   "source": [
    "def is_palindrome(message: str) -> bool:\n",
    "    message = sanitize_message(message)\n",
    "    length = math.floor(len(message)/2)\n",
    "    matches = [character for character in range(0, length) if message[character] == message[-(character+1)]]\n",
    "    return len(matches) == length"
   ]
  },
  {
   "cell_type": "code",
   "execution_count": 16,
   "metadata": {},
   "outputs": [],
   "source": [
    "assert ~is_palindrome(\"Hello World!\"), 'expected \"Hello World\" to not be a palindrome'\n",
    "assert is_palindrome(\"Go hang a salami - I'm a lasagna hog.\"), 'expected \"Go hang a samali - I\\'m a lasagna hog.\" to not be a palindrome'"
   ]
  },
  {
   "cell_type": "code",
   "execution_count": null,
   "metadata": {},
   "outputs": [],
   "source": []
  }
 ],
 "metadata": {
  "kernelspec": {
   "display_name": "Python 3",
   "language": "python",
   "name": "python3"
  },
  "language_info": {
   "codemirror_mode": {
    "name": "ipython",
    "version": 3
   },
   "file_extension": ".py",
   "mimetype": "text/x-python",
   "name": "python",
   "nbconvert_exporter": "python",
   "pygments_lexer": "ipython3",
   "version": "3.10.13"
  }
 },
 "nbformat": 4,
 "nbformat_minor": 2
}
