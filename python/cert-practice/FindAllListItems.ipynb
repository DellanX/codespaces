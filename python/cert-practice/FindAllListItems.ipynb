{
 "cells": [
  {
   "cell_type": "markdown",
   "metadata": {},
   "source": [
    "## Objective\n",
    "\n",
    "Search a list\n",
    "\n",
    "### Input\n",
    "List to search\n",
    "Value to search for\n",
    "\n",
    "### Output\n",
    "List of indices matching\n",
    "\n",
    "### Notes\n",
    "Should be able to sort multidimensional lists\n",
    "\n",
    "### Test Conditions\n",
    "[[[1, 2 3], 2, [1, 3]], [1, 2, 3]] => [[0, 0, 1], [0, 1], [1, 1]]\n"
   ]
  },
  {
   "cell_type": "code",
   "execution_count": 85,
   "metadata": {},
   "outputs": [],
   "source": [
    "from typing import Iterable"
   ]
  },
  {
   "cell_type": "code",
   "execution_count": 86,
   "metadata": {},
   "outputs": [],
   "source": [
    "def index_all(list: Iterable[int]|any, value: int):\n",
    "    # I don't know the datatype for n-dimensional arrays in python...\n",
    "    # but, I do know I can rely on recursion to cover this knowledge gap\n",
    "    # I'll solve for the trivial case, which is a single array\n",
    "    # Then we'll determine if an element of the list is n-dimensional, if so, recurse\n",
    "    output = []\n",
    "    indices = range(0, len(list))\n",
    "    for i in indices:\n",
    "        element = list[i]\n",
    "        if type(element) == int:\n",
    "            if element == value:\n",
    "                output.append(i)\n",
    "        else:\n",
    "            subIndices = index_all(element, value)\n",
    "            for indices in subIndices:\n",
    "                if type(indices) == int:\n",
    "                    output.append([i, indices])\n",
    "                else:\n",
    "                    indices.insert(0, i)\n",
    "                    output.append(indices)\n",
    "    return output"
   ]
  },
  {
   "cell_type": "code",
   "execution_count": 87,
   "metadata": {},
   "outputs": [
    {
     "data": {
      "text/plain": [
       "[1, 5]"
      ]
     },
     "execution_count": 87,
     "metadata": {},
     "output_type": "execute_result"
    }
   ],
   "source": [
    "index_all([1, 2, 3, 4, 5, 2], 2)"
   ]
  },
  {
   "cell_type": "code",
   "execution_count": 88,
   "metadata": {},
   "outputs": [],
   "source": [
    "assert index_all([1, 2, 3, 2], 2) == [1, 3], 'can find indices in 1-D array'"
   ]
  },
  {
   "cell_type": "code",
   "execution_count": 89,
   "metadata": {},
   "outputs": [
    {
     "data": {
      "text/plain": [
       "[[0, 2], 1]"
      ]
     },
     "execution_count": 89,
     "metadata": {},
     "output_type": "execute_result"
    }
   ],
   "source": [
    "index_all([[1, 2, 3], 3, 4], 3)"
   ]
  },
  {
   "cell_type": "code",
   "execution_count": 90,
   "metadata": {},
   "outputs": [],
   "source": [
    "assert index_all([[[1, 2, 3], 2, [1, 3]], [1, 2, 3]], 2) == [[0, 0, 1], [0, 1], [1, 1]]"
   ]
  }
 ],
 "metadata": {
  "kernelspec": {
   "display_name": "Python 3",
   "language": "python",
   "name": "python3"
  },
  "language_info": {
   "codemirror_mode": {
    "name": "ipython",
    "version": 3
   },
   "file_extension": ".py",
   "mimetype": "text/x-python",
   "name": "python",
   "nbconvert_exporter": "python",
   "pygments_lexer": "ipython3",
   "version": "3.10.13"
  }
 },
 "nbformat": 4,
 "nbformat_minor": 2
}
