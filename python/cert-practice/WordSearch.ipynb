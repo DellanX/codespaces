{
 "cells": [
  {
   "cell_type": "markdown",
   "metadata": {},
   "source": [
    "# Objective\n",
    "Sort the words in a string. Ignore cases in sorting, but output case should match input case on a per word basis.\n",
    "\n",
    "# Input\n",
    "A space deliminated string containing multiple words\n",
    "\n",
    "# Output\n",
    "A string of words, sorted alphebetically\n",
    "\n",
    "<b>\n",
    "NOTE: The problem definition doesn't state how these words should be concatonated\n",
    "I will assume that it is inteneded to use space delimination to match the input string deliminator\n",
    "</b>\n",
    "\n",
    "# Test Conditions\n",
    "\n",
    "'banana ORANGE apple' => 'apple banana ORANGE'"
   ]
  },
  {
   "cell_type": "code",
   "execution_count": 1,
   "metadata": {},
   "outputs": [],
   "source": [
    "# Import RegEx\n",
    "import re"
   ]
  },
  {
   "cell_type": "code",
   "execution_count": 72,
   "metadata": {},
   "outputs": [],
   "source": [
    "def get_character_key(char: str) -> str:\n",
    "    # The one flaw with this technique, is that it only sorts the first character.\n",
    "    targetChar = char[0]\n",
    "    return \"abcdefghijklmnopqrstuvwxyz\".index(targetChar.lower()) + 1"
   ]
  },
  {
   "cell_type": "code",
   "execution_count": 73,
   "metadata": {},
   "outputs": [],
   "source": [
    "assert get_character_key('ORANGE') == get_character_key('orange')"
   ]
  },
  {
   "cell_type": "code",
   "execution_count": 84,
   "metadata": {},
   "outputs": [],
   "source": [
    "# Came up with an idea, we could technically treat get_character_key as base26 encoding\n",
    "# and build a number based off of the combination; however, this is the same as just\n",
    "# converting the string into lowercase characters.\n",
    "# Since Python supports comparing letters, this method will result in the desired behavior\n",
    "def get_word_key(word: str) -> str:\n",
    "    return word.lower()"
   ]
  },
  {
   "cell_type": "code",
   "execution_count": 87,
   "metadata": {},
   "outputs": [],
   "source": [
    "assert get_word_key('aB') == get_word_key('ab')"
   ]
  },
  {
   "cell_type": "code",
   "execution_count": 88,
   "metadata": {},
   "outputs": [],
   "source": [
    "def sort_words(message: str) -> str:\n",
    "    words = message.split(' ')\n",
    "    words.sort(key=get_word_key)\n",
    "    return \" \".join(words)"
   ]
  },
  {
   "cell_type": "code",
   "execution_count": 89,
   "metadata": {},
   "outputs": [],
   "source": [
    "assert sort_words('string of words') == 'of string words', 'Function did not sort words'\n",
    "assert sort_words('banana ORANGE apple') == 'apple banana ORANGE', 'Function did not handle cases'"
   ]
  }
 ],
 "metadata": {
  "kernelspec": {
   "display_name": "Python 3",
   "language": "python",
   "name": "python3"
  },
  "language_info": {
   "codemirror_mode": {
    "name": "ipython",
    "version": 3
   },
   "file_extension": ".py",
   "mimetype": "text/x-python",
   "name": "python",
   "nbconvert_exporter": "python",
   "pygments_lexer": "ipython3",
   "version": "3.10.13"
  }
 },
 "nbformat": 4,
 "nbformat_minor": 2
}
