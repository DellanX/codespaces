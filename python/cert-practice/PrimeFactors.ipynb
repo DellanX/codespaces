{
 "cells": [
  {
   "cell_type": "markdown",
   "metadata": {},
   "source": [
    "# Objective\n",
    "We need a method to find all prime factors of a number.\n",
    "\n",
    "## Inputs\n",
    "Takes in a single integer\n",
    "\n",
    "## Outputs\n",
    "Outputs a list of integers\n",
    "\n",
    "## Test Conditions\n",
    "get_prime_factors(630) should return [2, 3, 3, 5, 7]"
   ]
  },
  {
   "cell_type": "code",
   "execution_count": 3,
   "metadata": {},
   "outputs": [],
   "source": [
    "import math"
   ]
  },
  {
   "cell_type": "code",
   "execution_count": 4,
   "metadata": {},
   "outputs": [],
   "source": [
    "def is_prime(number: int):\n",
    "    for i in range (2, number):\n",
    "        if number % i == 0:\n",
    "            return False\n",
    "    return True"
   ]
  },
  {
   "cell_type": "code",
   "execution_count": 5,
   "metadata": {},
   "outputs": [],
   "source": [
    "assert ~is_prime(1)\n",
    "assert is_prime(2)\n",
    "assert is_prime(3)\n",
    "assert ~is_prime(4)\n",
    "assert ~is_prime(630)\n",
    "assert is_prime (7727)\n",
    "assert ~is_prime (7728)"
   ]
  },
  {
   "cell_type": "code",
   "execution_count": 6,
   "metadata": {},
   "outputs": [],
   "source": [
    "def get_primes_until(number: int, showUnit: bool = False):\n",
    "    # Problem is, we need all primes within this range\n",
    "    primeRange = range(1 if showUnit else 2, number)\n",
    "    primes = [candidate for candidate in primeRange if is_prime(candidate)]\n",
    "    return primes"
   ]
  },
  {
   "cell_type": "code",
   "execution_count": 7,
   "metadata": {},
   "outputs": [],
   "source": [
    "assert get_primes_until(72) == [2, 3, 5, 7, 11, 13, 17, 19, 23, 29, 31, 37, 41, 43, 47, 53, 59, 61, 67, 71]"
   ]
  },
  {
   "cell_type": "code",
   "execution_count": 15,
   "metadata": {},
   "outputs": [],
   "source": [
    "def get_prime_factors(number: int):\n",
    "    factors: list[int] = []\n",
    "    divisor = 2\n",
    "    while divisor <= number:\n",
    "        if number % divisor == 0:\n",
    "            factors.append(divisor)\n",
    "            number = round(number / divisor)\n",
    "        else:\n",
    "            divisor = divisor + 1\n",
    "    return factors"
   ]
  },
  {
   "cell_type": "code",
   "execution_count": 16,
   "metadata": {},
   "outputs": [
    {
     "data": {
      "text/plain": [
       "[2, 3, 3, 5, 7]"
      ]
     },
     "execution_count": 16,
     "metadata": {},
     "output_type": "execute_result"
    }
   ],
   "source": [
    "get_prime_factors(630)"
   ]
  },
  {
   "cell_type": "code",
   "execution_count": 17,
   "metadata": {},
   "outputs": [],
   "source": [
    "# Test Condition\n",
    "assert (get_prime_factors(630) == [2, 3, 3, 5, 7]), 'values did not match expectation'"
   ]
  },
  {
   "cell_type": "code",
   "execution_count": null,
   "metadata": {},
   "outputs": [],
   "source": []
  }
 ],
 "metadata": {
  "kernelspec": {
   "display_name": "Python 3",
   "language": "python",
   "name": "python3"
  },
  "language_info": {
   "codemirror_mode": {
    "name": "ipython",
    "version": 3
   },
   "file_extension": ".py",
   "mimetype": "text/x-python",
   "name": "python",
   "nbconvert_exporter": "python",
   "pygments_lexer": "ipython3",
   "version": "3.10.13"
  }
 },
 "nbformat": 4,
 "nbformat_minor": 2
}
